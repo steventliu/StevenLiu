{
 "cells": [
  {
   "cell_type": "markdown",
   "metadata": {},
   "source": [
    "Question 1: Accept two int values from user and return their product. If the product is greater than 1000, then return their sum"
   ]
  },
  {
   "cell_type": "code",
   "execution_count": 2,
   "metadata": {},
   "outputs": [],
   "source": [
    "def mult_or_sum():\n",
    "    num1 = int(input(\"Please provide the 1st integer \"))\n",
    "    num2 = int(input(\"Please provide a 2nd integer \"))\n",
    "    product = num1*num2\n",
    "    if product < 1000:\n",
    "        return \"The product is less than 1000. The product of the two numbers is \" + str(product)\n",
    "        #print(product)\n",
    "    else:\n",
    "        sum = num1 + num2\n",
    "        return \"The product is greater than 1000.  The sum of the two numbers is = \" + str(sum)\n",
    "        #print(sum)"
   ]
  },
  {
   "cell_type": "code",
   "execution_count": 3,
   "metadata": {},
   "outputs": [
    {
     "name": "stdout",
     "output_type": "stream",
     "text": [
      "Please provide the 1st integer 10\n",
      "Please provide a 2nd integer 15\n"
     ]
    },
    {
     "data": {
      "text/plain": [
       "'The product is less than 1000. The product of the two numbers is 150'"
      ]
     },
     "execution_count": 3,
     "metadata": {},
     "output_type": "execute_result"
    }
   ],
   "source": [
    "mult_or_sum()"
   ]
  },
  {
   "cell_type": "markdown",
   "metadata": {},
   "source": [
    "Question 2: Given a range of numbers. Iterate from 0th number to the end number and print the sum of the current number and previous number"
   ]
  },
  {
   "cell_type": "code",
   "execution_count": null,
   "metadata": {},
   "outputs": [],
   "source": [
    "# def prevnum_currnum(num):\n",
    "#     prevnum = 0\n",
    "#     r = range(num)\n",
    "#     for i in r:\n",
    "#         sum_num = prevnum + i\n",
    "#         print(sum_num)\n",
    "#         #print(\"The cur num is \" + str(i) + \". The sum of the cur num and the prevnum is \" + str(sum_num))\n",
    "#         prevnum = i\n",
    "\n"
   ]
  },
  {
   "cell_type": "code",
   "execution_count": null,
   "metadata": {},
   "outputs": [],
   "source": [
    "prevnum_currnum(5)"
   ]
  },
  {
   "cell_type": "markdown",
   "metadata": {},
   "source": [
    "Question 3: Accept string from the user and display only those characters which are present at an even index"
   ]
  },
  {
   "cell_type": "code",
   "execution_count": null,
   "metadata": {},
   "outputs": [],
   "source": [
    "# def even_display(string):\n",
    "#     string = input(\"Please provide a string for me to use \")\n",
    "#     for i in range(0, len(string), 2):\n",
    "#         print(string[i])\n",
    "        "
   ]
  },
  {
   "cell_type": "code",
   "execution_count": null,
   "metadata": {},
   "outputs": [],
   "source": [
    "even_display(\"cow\")"
   ]
  },
  {
   "cell_type": "code",
   "execution_count": null,
   "metadata": {},
   "outputs": [],
   "source": [
    "# def even_display2(string):\n",
    "#     string = input(\"string please\")\n",
    "#     for banana in string:\n",
    "#         x = string.find(banana)\n",
    "#         if x % 2 == 0:\n",
    "#             print(string[x])"
   ]
  },
  {
   "cell_type": "code",
   "execution_count": null,
   "metadata": {},
   "outputs": [],
   "source": [
    "even_display2(\"hello\")"
   ]
  },
  {
   "cell_type": "markdown",
   "metadata": {},
   "source": [
    "Question 4: Given a string and an int n, remove characters from string starting from zero up to n and return a new string"
   ]
  },
  {
   "cell_type": "code",
   "execution_count": null,
   "metadata": {},
   "outputs": [],
   "source": [
    "def char_remove(string, n):\n",
    "    return string[n:]\n",
    "\n",
    "char_remove(\"apple\", 3)\n",
    "print(char_remove(\"Mississippi\", 6))"
   ]
  },
  {
   "cell_type": "code",
   "execution_count": null,
   "metadata": {},
   "outputs": [],
   "source": []
  }
 ],
 "metadata": {
  "kernelspec": {
   "display_name": "Python 3",
   "language": "python",
   "name": "python3"
  },
  "language_info": {
   "codemirror_mode": {
    "name": "ipython",
    "version": 3
   },
   "file_extension": ".py",
   "mimetype": "text/x-python",
   "name": "python",
   "nbconvert_exporter": "python",
   "pygments_lexer": "ipython3",
   "version": "3.7.1"
  }
 },
 "nbformat": 4,
 "nbformat_minor": 2
}
