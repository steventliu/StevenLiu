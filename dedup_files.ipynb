{
 "cells": [
  {
   "cell_type": "markdown",
   "metadata": {},
   "source": [
    "We are going to deduplicate some files today."
   ]
  },
  {
   "cell_type": "code",
   "execution_count": 1,
   "metadata": {},
   "outputs": [],
   "source": [
    "import hashlib  # needed for MD5 functionality\n",
    "import shutil   # needed for moving files\n",
    "import os       # needed for various file/directory functions\n",
    "import string   # needed for filenames for test data\n",
    "import random   # needed for making test filenames actually random"
   ]
  },
  {
   "cell_type": "markdown",
   "metadata": {},
   "source": [
    "We'll need one more dependency for generating random text.  The \"Lorem ipsum\" text is a classic placeholder in text and that will work well enough for text file contents."
   ]
  },
  {
   "cell_type": "code",
   "execution_count": 2,
   "metadata": {},
   "outputs": [
    {
     "name": "stdout",
     "output_type": "stream",
     "text": [
      "Requirement already satisfied: lorem in c:\\users\\estyw\\desktop\\python instruction\\venv\\lib\\site-packages (0.1.1)\n"
     ]
    }
   ],
   "source": [
    "!pip install lorem\n",
    "import lorem"
   ]
  },
  {
   "cell_type": "code",
   "execution_count": null,
   "metadata": {},
   "outputs": [],
   "source": [
    "#realtive_path = os.path.abspath('.')\n",
    "#os.listdir(os.path.join(realtive_path, 'Pandas_Tutorial\\Files'))\n"
   ]
  },
  {
   "cell_type": "code",
   "execution_count": 3,
   "metadata": {
    "scrolled": true
   },
   "outputs": [],
   "source": [
    "'''\n",
    "We'll define some directory names to use for our sample data then\n",
    "make directories to have the sorted, unsorted, and duplicated data\n",
    "'''\n",
    "\n",
    "cwd = os.path.abspath('.')\n",
    "sorted_directory = 'sorted'\n",
    "unsorted_directory = 'unsorted'\n",
    "duplicated_directory = 'duplicated'\n",
    "\n",
    "for dir in [sorted_directory, unsorted_directory, duplicated_directory]:\n",
    "    if not os.path.exists(os.path.join(cwd, dir)):\n",
    "        os.mkdir(os.path.join(cwd, dir))"
   ]
  },
  {
   "cell_type": "code",
   "execution_count": 4,
   "metadata": {},
   "outputs": [],
   "source": [
    "'''\n",
    "Populate the text variable for data, skip resetting it every X file when\n",
    "there is no remainder from dividing by X, then write that into a randomly\n",
    "named file.\n",
    "'''\n",
    "\n",
    "number_of_files_to_make = 50\n",
    "random_filename_length  = 12\n",
    "duplicate_every_X_files = 5\n",
    "\n",
    "for idx in range(number_of_files_to_make):\n",
    "    random_name = ''.join(random.SystemRandom().choice(string.ascii_lowercase) for _ in range(random_filename_length))\n",
    "    if idx == 0 or idx % duplicate_every_X_files:\n",
    "        text = lorem.text()\n",
    "    with open(os.path.join(cwd, 'unsorted', random_name+'.txt'), 'w+') as f:\n",
    "        f.write(text)"
   ]
  },
  {
   "cell_type": "code",
   "execution_count": 15,
   "metadata": {},
   "outputs": [],
   "source": [
    "'''\n",
    "You'll need a wrapper around hashlib.md5() and as that function doesn't fit\n",
    "a whole file in memory at a time (for large files), you'll have to sequentially\n",
    "read a file in a chunk at a time.  You can find some examples searching for\n",
    "\"Python MD5 of a file\"\n",
    "'''\n",
    "def md5Checksum(filePath):\n",
    "    hash_md5 = hashlib.md5()\n",
    "    with open(filePath, \"rb\") as f:\n",
    "        for chunk in iter(lambda: f.read(4096), b\"\"):\n",
    "            hash_md5.update(chunk)\n",
    "    return hash_md5.hexdigest()\n",
    "# NOT IMPLEMENTED YET\n",
    "\n",
    "#Jason's Code\n",
    "#def md5Checksum(filePath):\n",
    "#    with open(filePath, 'rb') as fh:\n",
    "#    m= hashlib.md5()\n",
    "#    while True:\n",
    "#        data = fh.read(8192)\n",
    "#        if not data:\n",
    "#            break\n",
    "#        m.update(data)\n",
    "#    return m.hexdigest()"
   ]
  },
  {
   "cell_type": "code",
   "execution_count": 5,
   "metadata": {},
   "outputs": [
    {
     "data": {
      "text/plain": [
       "'C:\\\\Users\\\\estyw\\\\Desktop\\\\Python Instruction\\\\python-instruction-master\\\\unsorted'"
      ]
     },
     "execution_count": 5,
     "metadata": {},
     "output_type": "execute_result"
    }
   ],
   "source": [
    "unsorted_directory_path = os.path.join(cwd, unsorted_directory)\n",
    "unsorted_directory_path"
   ]
  },
  {
   "cell_type": "code",
   "execution_count": null,
   "metadata": {},
   "outputs": [],
   "source": [
    "files = [os.path.join(unsorted_directory_path, f) for f in os.listdir(unsorted_directory_path)]\n",
    "files"
   ]
  },
  {
   "cell_type": "code",
   "execution_count": 16,
   "metadata": {},
   "outputs": [
    {
     "name": "stdout",
     "output_type": "stream",
     "text": [
      "da631b44704b04d87e7ec0eb2d3bf717 was not in dictionary, adding filename acdlqmfqoysx.txt and moving it to sorted\n",
      "83bb2d643f23e78a25b43aac4d40fe70 was not in dictionary, adding filename amwejlksqsmx.txt and moving it to sorted\n",
      "7e22e90451118898ec25d1b9e9afe693 was not in dictionary, adding filename bfdwkdkegzhb.txt and moving it to sorted\n",
      "3f99974c0964d43d42372a09aeefee97 was not in dictionary, adding filename biupuozacbga.txt and moving it to sorted\n",
      "3f99974c0964d43d42372a09aeefee97 was already in dictionary, appending filename bptgxdeeipxu.txt and moving it to duplicated\n",
      "44cc87ae38263f8cda8bd54b467a0f6b was not in dictionary, adding filename bvxvsoptbvyf.txt and moving it to sorted\n",
      "83eb469cf9be9043ae109712dd8b1d86 was not in dictionary, adding filename cctpdmwsifvj.txt and moving it to sorted\n",
      "2f4f354ebd147e3654addaa870727c93 was not in dictionary, adding filename cgzghamhspnm.txt and moving it to sorted\n",
      "83cb134d4b19bb84406e744ca37cc9c3 was not in dictionary, adding filename cjizonpukser.txt and moving it to sorted\n",
      "fdbf8c149e4a5100992ed3b36c6252f1 was not in dictionary, adding filename clqcldybhiur.txt and moving it to sorted\n",
      "4183f2050d41cdbf238b05b474a0d66a was not in dictionary, adding filename crhqceofjkps.txt and moving it to sorted\n",
      "367dcc942c9ada47ebefb17691914991 was not in dictionary, adding filename cybhfpkphavc.txt and moving it to sorted\n",
      "a6ae5e34d6d16fd976725cc32d56220a was not in dictionary, adding filename dbqoposhxxhw.txt and moving it to sorted\n",
      "d0bbcfe36c40ed3eec32040029434d62 was not in dictionary, adding filename dcsnlrkiqbxp.txt and moving it to sorted\n",
      "5ec5fef0f8375608d86c6eee948ef9bd was not in dictionary, adding filename ddtmoeuymiqq.txt and moving it to sorted\n",
      "9a3bcf57cfb3c77f738a11f30a619dd0 was not in dictionary, adding filename ddtrpioxnmcl.txt and moving it to sorted\n",
      "94a45dc14f0aee2743a270d2d25b3174 was not in dictionary, adding filename dlpmpmxwsfjl.txt and moving it to sorted\n",
      "e4aa64964eb245b623f2e8cd68fa24e2 was not in dictionary, adding filename dshnlfewhfig.txt and moving it to sorted\n",
      "801f7fd2011dcf7a7828eb286e8f0ede was not in dictionary, adding filename dsjytzgcctxe.txt and moving it to sorted\n",
      "2dd1ea38b24cb72832ca486d4f206bc2 was not in dictionary, adding filename dtqkbcsldljy.txt and moving it to sorted\n",
      "44da290044cdcec91129e2a2620d24f1 was not in dictionary, adding filename duutwjpfbqya.txt and moving it to sorted\n",
      "bf169d03ffecf37860291900d6ca7b7e was not in dictionary, adding filename dvgnnucfgjnq.txt and moving it to sorted\n",
      "7e572206e0d0373f1ce2571ea12b1476 was not in dictionary, adding filename dzhgnhuouvgc.txt and moving it to sorted\n",
      "ab41798fd28017dc96736a29b8bbfb78 was not in dictionary, adding filename eezrzcbffbad.txt and moving it to sorted\n",
      "c42e94fb8fb1e8c14d016f113b6b794e was not in dictionary, adding filename egcajnubmdpc.txt and moving it to sorted\n",
      "580d0adbdbffb653b43d0abc15bb68d0 was not in dictionary, adding filename emspkoiqfrjs.txt and moving it to sorted\n",
      "5ad0b63bc325287f5368ab695b37ac8f was not in dictionary, adding filename enbzxgpnknep.txt and moving it to sorted\n",
      "9743d665e1b25360b605fbc2b6e5cc3e was not in dictionary, adding filename exuuimrabhmh.txt and moving it to sorted\n",
      "e43155fdc263a6e41517afb9a5155626 was not in dictionary, adding filename eyyxvlmhzkqz.txt and moving it to sorted\n",
      "37d358e6403e1e2fa7659b460935a7ba was not in dictionary, adding filename fbimupnhdzor.txt and moving it to sorted\n",
      "5ec5fef0f8375608d86c6eee948ef9bd was already in dictionary, appending filename fjiwtpgtgcdb.txt and moving it to duplicated\n",
      "9a1af66b548e724040407b6ebd85b672 was not in dictionary, adding filename fjyingutmfge.txt and moving it to sorted\n",
      "264c89898e5d47ce1c0d8cb7f4e6c89b was not in dictionary, adding filename fkuknfbasfhz.txt and moving it to sorted\n",
      "ca1de9bfefb9313025b69fe4f2383293 was not in dictionary, adding filename flqbwnoekaci.txt and moving it to sorted\n",
      "049e60646625987c3325e1e72c604be2 was not in dictionary, adding filename fqrjejsveqax.txt and moving it to sorted\n",
      "4be9136cc2788276d058f695c7f6821a was not in dictionary, adding filename gcgfzykddyia.txt and moving it to sorted\n",
      "e8f6c4090d2e20ee026cb4344d5d213c was not in dictionary, adding filename gcmoausdingy.txt and moving it to sorted\n",
      "e072d81fa35e382f9a3986ef13108e80 was not in dictionary, adding filename ghmaxmmmpzop.txt and moving it to sorted\n",
      "ce693a948ba848a2c464f8525766097d was not in dictionary, adding filename ghnyuyjpqbxt.txt and moving it to sorted\n",
      "09c79c3aada5f690369f26342f4bf1dd was not in dictionary, adding filename glkflimdpmjb.txt and moving it to sorted\n",
      "ed165ef27acd9d0f5028bb7a09396dd6 was not in dictionary, adding filename gqiwejsndpun.txt and moving it to sorted\n",
      "4b7751016a43258d79330eb31b694eba was not in dictionary, adding filename gspifmhvajjt.txt and moving it to sorted\n",
      "24e21db3f8b5e4bc8d0501f41b70b978 was not in dictionary, adding filename gyoshygbzqhg.txt and moving it to sorted\n",
      "309450ff103fa0fa8e0f1085a2176370 was not in dictionary, adding filename hgkmkujopcan.txt and moving it to sorted\n",
      "b2b9866430882c3b19ea3afa33d87efc was not in dictionary, adding filename hiehssatgwve.txt and moving it to sorted\n",
      "795f116361522c5282ecac851620bb53 was not in dictionary, adding filename hoedsdcgvjxw.txt and moving it to sorted\n",
      "4efe2f0c8d192fe4277a584d085036dc was not in dictionary, adding filename htafufpjcbib.txt and moving it to sorted\n",
      "a3738ffa34101486334d2ae11b982580 was not in dictionary, adding filename hzhgotgstwpm.txt and moving it to sorted\n",
      "801f7fd2011dcf7a7828eb286e8f0ede was already in dictionary, appending filename ibdlnqtlvaim.txt and moving it to duplicated\n",
      "7e22e90451118898ec25d1b9e9afe693 was already in dictionary, appending filename icspsjlksrbn.txt and moving it to duplicated\n",
      "9817eb3d1f8fd900eec2e1a800e1b1f3 was not in dictionary, adding filename imbvfyssackg.txt and moving it to sorted\n",
      "7e572206e0d0373f1ce2571ea12b1476 was already in dictionary, appending filename ioipomykrfom.txt and moving it to duplicated\n",
      "1ec7658178beff069e61ad0049d509b2 was not in dictionary, adding filename iqbjarkzniup.txt and moving it to sorted\n",
      "13c091e2427c07d5b8867d7b4650c1a3 was not in dictionary, adding filename iqlvukkifmav.txt and moving it to sorted\n",
      "6c509e719ccf0e516b4b23dd2f93cf33 was not in dictionary, adding filename itkxfxpwivzq.txt and moving it to sorted\n",
      "081ada09bdf99b85dea0e421b5ff2fa9 was not in dictionary, adding filename ivuwaeqofykj.txt and moving it to sorted\n",
      "4a990e97ca12a4deb0cf31f98b8d8da0 was not in dictionary, adding filename iwtullxbivtl.txt and moving it to sorted\n",
      "ee441398cbd33831d1d9fc01704dd4f4 was not in dictionary, adding filename iynrcgarokwa.txt and moving it to sorted\n",
      "60d08d1c78baa680dfaea71e8c6950cc was not in dictionary, adding filename jijgilrxffmp.txt and moving it to sorted\n",
      "4464ba318c2a39b59e592fdb5aac3c4c was not in dictionary, adding filename jjchnkreiozg.txt and moving it to sorted\n",
      "83bb2d643f23e78a25b43aac4d40fe70 was already in dictionary, appending filename jjiihzujdnki.txt and moving it to duplicated\n",
      "47aee8fa40ba4793ee4651ef881e7459 was not in dictionary, adding filename jkqrjehlzbid.txt and moving it to sorted\n",
      "60d08d1c78baa680dfaea71e8c6950cc was already in dictionary, appending filename jnvkounpkeit.txt and moving it to duplicated\n",
      "2d3475f329297a80edb99d8780148283 was not in dictionary, adding filename jrzgqultjncb.txt and moving it to sorted\n",
      "501d58c423614d0831741e7486b2e1c5 was not in dictionary, adding filename jveakworsnzl.txt and moving it to sorted\n",
      "f49117230b47a877f8d2eaea080b4e98 was not in dictionary, adding filename jvwqsysdffvs.txt and moving it to sorted\n",
      "74afc4970e0cdfa88598fa28944a4a7e was not in dictionary, adding filename jxnejzspjpwn.txt and moving it to sorted\n",
      "90791af470db19f20bceaad968cd3206 was not in dictionary, adding filename kacaphsrpjmp.txt and moving it to sorted\n",
      "1491566b600153a78bbfe85ba47c37e1 was not in dictionary, adding filename kiwwafpzrxtu.txt and moving it to sorted\n",
      "d5917b13db7ef559f1d5b00f4606e0c6 was not in dictionary, adding filename kymckdprbdlr.txt and moving it to sorted\n",
      "3d0067965d977b2907cfb43cf1501929 was not in dictionary, adding filename lbkmvkejhtqb.txt and moving it to sorted\n",
      "8cb6ddd2688b11cdb4ebc4d30549ee86 was not in dictionary, adding filename ldcfoevdwpfd.txt and moving it to sorted\n",
      "ce693a948ba848a2c464f8525766097d was already in dictionary, appending filename lixeoutjwbtq.txt and moving it to duplicated\n",
      "c42e94fb8fb1e8c14d016f113b6b794e was already in dictionary, appending filename ljmndgqywrsi.txt and moving it to duplicated\n",
      "e4aa64964eb245b623f2e8cd68fa24e2 was already in dictionary, appending filename lksequmqneep.txt and moving it to duplicated\n",
      "a0ad8394ce8a66b5c2b939595903e73c was not in dictionary, adding filename llcsbwsxilsy.txt and moving it to sorted\n",
      "57fb6c1028db918fd888f9fd4e671003 was not in dictionary, adding filename lluivboybjqg.txt and moving it to sorted\n",
      "3259ed98b58194ba67c65999ad1c56da was not in dictionary, adding filename lpjmeybfocvj.txt and moving it to sorted\n",
      "1dae669075ce2fd1280e058fc8b6d5c1 was not in dictionary, adding filename lqxhmmrxmmbr.txt and moving it to sorted\n",
      "a1c4ee2d9a3b6463518a315a7c586206 was not in dictionary, adding filename mlkrvgrvkbjs.txt and moving it to sorted\n",
      "c55950070116d456170594bfd7b661c4 was not in dictionary, adding filename moacznwqijpk.txt and moving it to sorted\n",
      "aeb12242b9f4763c53b5789ba38dfe87 was not in dictionary, adding filename mougererwkee.txt and moving it to sorted\n",
      "4d997316fd307bb5ef1205b4d5d9efe4 was not in dictionary, adding filename mourhveydqia.txt and moving it to sorted\n",
      "2f1879dfe3dcb4df86777aa3ffcb0016 was not in dictionary, adding filename mppljhzzfwer.txt and moving it to sorted\n",
      "67e8a35842473437209534fb37c5e971 was not in dictionary, adding filename mqrhpnsyeieu.txt and moving it to sorted\n",
      "1aa403092afb091179631295d436158a was not in dictionary, adding filename mqwvzvgrhfdp.txt and moving it to sorted\n",
      "80c6b75875b44ec46571498297b797d1 was not in dictionary, adding filename mskvikukhucw.txt and moving it to sorted\n",
      "ca9668a38e0f44af8ff5ceff47d1b84e was not in dictionary, adding filename murqsvyevmen.txt and moving it to sorted\n",
      "101ab20aebf3e489d1a543fff71ff66f was not in dictionary, adding filename mxanfooknqke.txt and moving it to sorted\n",
      "1b017fdb99fe75bc82e521da7e70aed6 was not in dictionary, adding filename nbkgzzvfrmqj.txt and moving it to sorted\n",
      "392599fc05a8ef7936299794f7816e23 was not in dictionary, adding filename ncefiqncvgfs.txt and moving it to sorted\n",
      "ff0f6977a7c8a4b258af7cd5cb3bae1b was not in dictionary, adding filename ndadcnmjrcdb.txt and moving it to sorted\n",
      "9d0cd4be18e32729440d2a686cb74746 was not in dictionary, adding filename nexatqyslyvr.txt and moving it to sorted\n",
      "6c509e719ccf0e516b4b23dd2f93cf33 was already in dictionary, appending filename nexygkahtozc.txt and moving it to duplicated\n",
      "8c2a414bcaed534a0c751a56488dcef4 was not in dictionary, adding filename nfziuidrjrbq.txt and moving it to sorted\n",
      "e69e56ab9ff03b3f635996f2a8c3e876 was not in dictionary, adding filename ngwwyoiculof.txt and moving it to sorted\n",
      "bf169d03ffecf37860291900d6ca7b7e was already in dictionary, appending filename nhjxkxizisju.txt and moving it to duplicated\n",
      "367dcc942c9ada47ebefb17691914991 was already in dictionary, appending filename nlptvthvukcc.txt and moving it to duplicated\n",
      "40c50ceae434a09d4a4d55212c3faef8 was not in dictionary, adding filename nnrtwccnwwex.txt and moving it to sorted\n",
      "07bad907e5b3c5e9fcd966e653b709b4 was not in dictionary, adding filename nnzfqrxfupvb.txt and moving it to sorted\n",
      "0ea63fe051a0f8297ee64d96fad5fe45 was not in dictionary, adding filename nobvnspeuczh.txt and moving it to sorted\n",
      "5fa998f73f12852970afe3d10c4dbb26 was not in dictionary, adding filename nrbxehxyeoul.txt and moving it to sorted\n",
      "ecdddc4e1871ca45501ad0b7c7681b01 was not in dictionary, adding filename nvfdjpmnjnhh.txt and moving it to sorted\n",
      "c62b265a641116857609039f14bcfcfe was not in dictionary, adding filename nvinwvjnekca.txt and moving it to sorted\n",
      "e4287eb61ebe1767e3dd5cc40b989e49 was not in dictionary, adding filename nzlfbmbbjbgn.txt and moving it to sorted\n",
      "c62b265a641116857609039f14bcfcfe was already in dictionary, appending filename ocdwilpcpyme.txt and moving it to duplicated\n",
      "40c50ceae434a09d4a4d55212c3faef8 was already in dictionary, appending filename odzmgnfcelwt.txt and moving it to duplicated\n",
      "ecdddc4e1871ca45501ad0b7c7681b01 was already in dictionary, appending filename ogtwqijwefst.txt and moving it to duplicated\n",
      "97a3437287ca43e3f78f5722cc35714e was not in dictionary, adding filename ohrgpnbfpmwb.txt and moving it to sorted\n",
      "6d49ab443dfe084f35a1825567277a87 was not in dictionary, adding filename onedtkhfbrxi.txt and moving it to sorted\n",
      "f3a2cd5179223df9aebe4c462c433c15 was not in dictionary, adding filename oqqlhlrckcqg.txt and moving it to sorted\n",
      "64bbfed9512ae87c34a7621889a4d8ed was not in dictionary, adding filename osxbesnjeecg.txt and moving it to sorted\n",
      "8c8b05f1a4c6bdf24fbee373ac280632 was not in dictionary, adding filename ouhoyiysioiu.txt and moving it to sorted\n",
      "4efe2f0c8d192fe4277a584d085036dc was already in dictionary, appending filename ovcsvnhebmxw.txt and moving it to duplicated\n",
      "10de96944e1bcdf9ba01579d4f98c01f was not in dictionary, adding filename owytaxovvnqj.txt and moving it to sorted\n",
      "40f6d24dfe0c785f8505650d197c2258 was not in dictionary, adding filename ozclhofadaoc.txt and moving it to sorted\n",
      "d5917b13db7ef559f1d5b00f4606e0c6 was already in dictionary, appending filename pdqzkppwvtbg.txt and moving it to duplicated\n",
      "9817eb3d1f8fd900eec2e1a800e1b1f3 was already in dictionary, appending filename pedjujehkslo.txt and moving it to duplicated\n",
      "49523b2241595c190d6daac42453f5b5 was not in dictionary, adding filename pgwtzgvwuuok.txt and moving it to sorted\n",
      "bd75c5c5c23f42250ee579f24dbfe9a7 was not in dictionary, adding filename poojoxkjizfy.txt and moving it to sorted\n",
      "18d117e34682810c7faf570afb364c12 was not in dictionary, adding filename pqqwmeldolmp.txt and moving it to sorted\n",
      "8c7fe11d0ea6f446ecdc52597a1f9e4a was not in dictionary, adding filename ptpwwqxzcilz.txt and moving it to sorted\n",
      "38d918e0117d8d6b6bd1200223874b41 was not in dictionary, adding filename pwjgzfmulcnd.txt and moving it to sorted\n",
      "1cc9cafcd4cb769f85ca25cd6dcaa475 was not in dictionary, adding filename pyiovwvbheyh.txt and moving it to sorted\n",
      "79ec5c01c12b693dc63f017539ec59de was not in dictionary, adding filename pzuglulvedhn.txt and moving it to sorted\n",
      "ab41798fd28017dc96736a29b8bbfb78 was already in dictionary, appending filename qcdjkdlivhdl.txt and moving it to duplicated\n",
      "101f9fac8514b27dfb433e19208e48c3 was not in dictionary, adding filename qdcvztbvnhhd.txt and moving it to sorted\n",
      "4c914e28c97cdf826bdad84acf1fd1ee was not in dictionary, adding filename qhzwekvtuwzn.txt and moving it to sorted\n",
      "296f8fc1472f08a4fedad65568ebbd2f was not in dictionary, adding filename qjtxaohcgsik.txt and moving it to sorted\n",
      "18725455f988fde565190e081c324c11 was not in dictionary, adding filename qksvsfcvngst.txt and moving it to sorted\n",
      "e2152cac43a14727202918161a3d78ed was not in dictionary, adding filename qngvyajiwmto.txt and moving it to sorted\n",
      "4d997316fd307bb5ef1205b4d5d9efe4 was already in dictionary, appending filename qqrtcsambixf.txt and moving it to duplicated\n",
      "cec2d4e0e6131768d1a1c71321a5161d was not in dictionary, adding filename qtltchlrindy.txt and moving it to sorted\n",
      "177c48cd456aa535561b6ea1b75c889a was not in dictionary, adding filename quigoryoplpp.txt and moving it to sorted\n",
      "a681bcf7021a79ff8c000b480343f7fa was not in dictionary, adding filename rclsprppbwsh.txt and moving it to sorted\n",
      "ba595d72df25673f9b646e166e75c1a9 was not in dictionary, adding filename rdlkgffprizn.txt and moving it to sorted\n",
      "57fb6c1028db918fd888f9fd4e671003 was already in dictionary, appending filename rgnxruhulrqj.txt and moving it to duplicated\n",
      "5c1e3d600268c16ca3625ca42aa3ed8c was not in dictionary, adding filename rkjworvesapy.txt and moving it to sorted\n",
      "2c0a62bc06c2d13881b8b92ac19def50 was not in dictionary, adding filename rnytssleyqhs.txt and moving it to sorted\n",
      "1b017fdb99fe75bc82e521da7e70aed6 was already in dictionary, appending filename rsxuxfpjcpjg.txt and moving it to duplicated\n",
      "4a990e97ca12a4deb0cf31f98b8d8da0 was already in dictionary, appending filename rvavktnfzdhr.txt and moving it to duplicated\n",
      "6a26a5ddf0fcdffe75d03e69906f5654 was not in dictionary, adding filename rxupkeuibdem.txt and moving it to sorted\n",
      "ae7433b3aa17ae37cd8e1296a65d6b45 was not in dictionary, adding filename ryvxjobqjlqw.txt and moving it to sorted\n",
      "98639b308685743e9d95b0b362d3575f was not in dictionary, adding filename rzdomgnpmdgi.txt and moving it to sorted\n",
      "49ee5ed95ac19d3aa6f6c8bf3e5ff884 was not in dictionary, adding filename saqqnedwddip.txt and moving it to sorted\n",
      "9d0cd4be18e32729440d2a686cb74746 was already in dictionary, appending filename sfhxhyvdufzy.txt and moving it to duplicated\n",
      "83cb134d4b19bb84406e744ca37cc9c3 was already in dictionary, appending filename snqnqfljwwyi.txt and moving it to duplicated\n",
      "e5efaab4aeb3949672df24bf785eb0ff was not in dictionary, adding filename solsvlzhanyv.txt and moving it to sorted\n",
      "447a5fbd732ce732f7ceb3e11edae2ef was not in dictionary, adding filename spfuftrxcahg.txt and moving it to sorted\n",
      "f1a4d70ae2416b915e5dd8305e057e2f was not in dictionary, adding filename sthwffgdbite.txt and moving it to sorted\n",
      "0091af42caf38f68d3fa06b8d67326be was not in dictionary, adding filename suzfnuhpiggr.txt and moving it to sorted\n",
      "89f4e41b27586a184c94d62733fb4c24 was not in dictionary, adding filename sxzudcfrsste.txt and moving it to sorted\n",
      "049e60646625987c3325e1e72c604be2 was already in dictionary, appending filename tfceklaffttv.txt and moving it to duplicated\n",
      "44da290044cdcec91129e2a2620d24f1 was already in dictionary, appending filename tnyyedaupagf.txt and moving it to duplicated\n",
      "da133b462507b6fda007468b58021c32 was not in dictionary, adding filename tpxggbsezafk.txt and moving it to sorted\n",
      "4968ad0e6a2d37bdbf3095e2aa24e12c was not in dictionary, adding filename tqujbblggdak.txt and moving it to sorted\n",
      "78c1626eca79fc5280f362d0f989e5f6 was not in dictionary, adding filename tshysawbhtdl.txt and moving it to sorted\n",
      "7d899e139ed784d7c09b0da2fede62cf was not in dictionary, adding filename uaaqfppmqxsa.txt and moving it to sorted\n",
      "acb836235f0bd77e8a905fb30a109442 was not in dictionary, adding filename ugdieeikupob.txt and moving it to sorted\n",
      "4805a0562b28a21069eb9f5f52988ccf was not in dictionary, adding filename ugdmjxknxwin.txt and moving it to sorted\n",
      "fd6558f4fa06391506acf8628d989271 was not in dictionary, adding filename uiklmeqfiuum.txt and moving it to sorted\n"
     ]
    },
    {
     "name": "stdout",
     "output_type": "stream",
     "text": [
      "404d077b0a57add5aafad0ab46ff3fee was not in dictionary, adding filename ujkobgrbtuwb.txt and moving it to sorted\n",
      "8879abe1553efd91d0f3b3cae042ce33 was not in dictionary, adding filename ulfdlfcucckw.txt and moving it to sorted\n",
      "aba9fc8e3787e6ad2b6d9c0856fbfd86 was not in dictionary, adding filename unuhqeabfcwm.txt and moving it to sorted\n",
      "691fc17be3eb2237c26a9019bea22549 was not in dictionary, adding filename usblpqrcbior.txt and moving it to sorted\n",
      "ca80c63d107dae56355121ae773114fd was not in dictionary, adding filename utscnkmapxmy.txt and moving it to sorted\n",
      "23cc0c64fa91ab8be8c4a775d77feb9a was not in dictionary, adding filename uuqwhyjishfz.txt and moving it to sorted\n",
      "ee09a01dca5558193a365120de572284 was not in dictionary, adding filename uvsjhfzetofj.txt and moving it to sorted\n",
      "c08a1ffd0ed2e58fb682853a88a87396 was not in dictionary, adding filename uvzqgxrzddym.txt and moving it to sorted\n",
      "d2e49df408ee062b28826b518b22326b was not in dictionary, adding filename vgmspktmdshm.txt and moving it to sorted\n",
      "edf46d9c59f662c808b245ef259b831c was not in dictionary, adding filename vihrvpzzisno.txt and moving it to sorted\n",
      "487192fe88e68a1cbeb89cdc2ad48cc0 was not in dictionary, adding filename vndesfvegxeh.txt and moving it to sorted\n",
      "8e6bd504604ec3a0f6caf4118f4ca53d was not in dictionary, adding filename vsnksvvytgdm.txt and moving it to sorted\n",
      "073d2fb890fee2d366f840139bd334da was not in dictionary, adding filename vwrxhcndxtxm.txt and moving it to sorted\n",
      "af7682025ebe7f77aa5ee4fad5d67f6d was not in dictionary, adding filename vycyueukidzw.txt and moving it to sorted\n",
      "c08a1ffd0ed2e58fb682853a88a87396 was already in dictionary, appending filename wexmbvsmavlo.txt and moving it to duplicated\n",
      "addf069d7d2546e7e1893952e880860e was not in dictionary, adding filename wnaaolwflwyz.txt and moving it to sorted\n",
      "bb824f4216ae3b0296f7583a48676257 was not in dictionary, adding filename wvnocezmejig.txt and moving it to sorted\n",
      "5c19ee6949322d94f65223a356be3efa was not in dictionary, adding filename wwarnejfpeow.txt and moving it to sorted\n",
      "057fd85f2c41f18747e2b502512c99ac was not in dictionary, adding filename wzwzmpsyzpwk.txt and moving it to sorted\n",
      "3a8eef40f0de1dfa0e229f36271d21a9 was not in dictionary, adding filename xgixwbzvspfr.txt and moving it to sorted\n",
      "e072d81fa35e382f9a3986ef13108e80 was already in dictionary, appending filename xksdojojgywa.txt and moving it to duplicated\n",
      "fb31b75c9555aa73ca6074b1434243c2 was not in dictionary, adding filename xlfgkgrybebh.txt and moving it to sorted\n",
      "31d5efdbf056aa11d524b7fee9f947fd was not in dictionary, adding filename xowkdxqvuqrh.txt and moving it to sorted\n",
      "0ea63fe051a0f8297ee64d96fad5fe45 was already in dictionary, appending filename xpqwrdqcodwb.txt and moving it to duplicated\n",
      "aeb12242b9f4763c53b5789ba38dfe87 was already in dictionary, appending filename xqagxkswzyuu.txt and moving it to duplicated\n",
      "5d86f9d029a5213f4c85e8a544fd1c16 was not in dictionary, adding filename xrrkkbcggpwa.txt and moving it to sorted\n",
      "b5e5c9806cbac259cfc8e59e92731276 was not in dictionary, adding filename xsweediukjaz.txt and moving it to sorted\n",
      "f3a2cd5179223df9aebe4c462c433c15 was already in dictionary, appending filename xwbozdzaqmbm.txt and moving it to duplicated\n",
      "8b5c8458d1f86bb28d378e6e70298630 was not in dictionary, adding filename xzqpwzocxzfz.txt and moving it to sorted\n",
      "6a26a5ddf0fcdffe75d03e69906f5654 was already in dictionary, appending filename ydutrxodquup.txt and moving it to duplicated\n",
      "cf8e96bca0c1ad45f7874c2768cb1840 was not in dictionary, adding filename yfqlgpbpgfqg.txt and moving it to sorted\n",
      "f9061b202854175e9d391cffb26fbf7b was not in dictionary, adding filename yjgjaigunuel.txt and moving it to sorted\n",
      "b897b6ad2b253d4e32d504225b1145b3 was not in dictionary, adding filename yjlnztrtnfrv.txt and moving it to sorted\n",
      "86a1ab6a39bad99ae1e9ba2d076c75d3 was not in dictionary, adding filename ynrsbwrawyfy.txt and moving it to sorted\n",
      "4c914e28c97cdf826bdad84acf1fd1ee was already in dictionary, appending filename yvmexqkrvceb.txt and moving it to duplicated\n",
      "f160dd45b3150e560438fea6b0aae30a was not in dictionary, adding filename yxyvycnrkktl.txt and moving it to sorted\n",
      "5d86f9d029a5213f4c85e8a544fd1c16 was already in dictionary, appending filename zblwvaddjjpv.txt and moving it to duplicated\n",
      "9ae789f230ae5d8c3c1d022c707c9a91 was not in dictionary, adding filename zpbhwudlygwm.txt and moving it to sorted\n",
      "80a3b04391b0914d16dc8c4963253b0b was not in dictionary, adding filename zwudlvyntvrz.txt and moving it to sorted\n"
     ]
    }
   ],
   "source": [
    "'''\n",
    "You'll need to go through each filename in the unsorted_directory now.\n",
    "Create a hash, then store the hash and original filename before moving\n",
    "the filename to sorted_directory or duplicatea_directory.\n",
    "'''\n",
    "files_dict = {}\n",
    "\n",
    "# NOT IMPLEMENTED YET - convert the following pseudo code to real code\n",
    "\n",
    "for filename in os.listdir(unsorted_directory):\n",
    "     md5 = md5Checksum(os.path.join(unsorted_directory, filename))\n",
    "     if  not files_dict.get(md5) :\n",
    "         print (f\"{md5} was not in dictionary, adding filename {filename} and moving it to {sorted_directory}\")\n",
    "         files_dict[md5]=[filename]\n",
    "         shutil.move(os.path.join(unsorted_directory, filename), os.path.join(sorted_directory, filename))\n",
    "     else:\n",
    "         print (f\"{md5} was already in dictionary, appending filename {filename} and moving it to {duplicated_directory}\") \n",
    "         files_dict[md5]=files_dict[md5].append(filename)\n",
    "         shutil.move(os.path.join(unsorted_directory, filename), os.path.join(duplicated_directory, filename))\n",
    "\n",
    "\n",
    "#for filenmae in files:\n",
    " #   print('Getting hash value for {}'.format(filenmae))\n",
    "  #  md5 = md5Checksum(filenmae)\n",
    "   # if md5 not in files_dict.keys():\n",
    "    #    files_dict[md5] = filenmae\n",
    "# for filename in unsorted_directory:\n",
    "#     md5 = md5Checksum(filename)\n",
    "#     files_dict.get(md5, filename)"
   ]
  },
  {
   "cell_type": "code",
   "execution_count": 11,
   "metadata": {},
   "outputs": [
    {
     "name": "stdout",
     "output_type": "stream",
     "text": [
      "Python 3.7.2rc1\n"
     ]
    }
   ],
   "source": [
    "!python --version"
   ]
  },
  {
   "cell_type": "code",
   "execution_count": null,
   "metadata": {},
   "outputs": [],
   "source": [
    "#files_dict2 = {}\n",
    "#for filename in files:\n",
    "#    md5 = md5Checksum(filename)\n",
    "#    files_dict2[md5] = files_dict2.get(md5,filename)"
   ]
  },
  {
   "cell_type": "code",
   "execution_count": null,
   "metadata": {},
   "outputs": [],
   "source": [
    "'''\n",
    "You'll need to save the MD5 hashes and original file names before your\n",
    "program closes so we have records of the original locations.  Save them\n",
    "in a CSV file of the MD5 and original filename.\n",
    "\n",
    "Refer to the earlier lesson's examples on opening a file handle for a\n",
    "text file and using the csvwriter.writerow functionality.\n",
    "'''\n",
    "\n",
    "# NOT IMPLEMENTED YET - convert the following pseudo code to real code\n",
    "#\n",
    "#for key,value in dict\n",
    "#    for value in key\n",
    "#        write hash, original filename to CSV"
   ]
  }
 ],
 "metadata": {
  "kernelspec": {
   "display_name": "Python 3",
   "language": "python",
   "name": "python3"
  },
  "language_info": {
   "codemirror_mode": {
    "name": "ipython",
    "version": 3
   },
   "file_extension": ".py",
   "mimetype": "text/x-python",
   "name": "python",
   "nbconvert_exporter": "python",
   "pygments_lexer": "ipython3",
   "version": "3.7.1"
  }
 },
 "nbformat": 4,
 "nbformat_minor": 2
}
