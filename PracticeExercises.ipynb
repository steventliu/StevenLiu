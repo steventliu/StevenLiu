{
 "cells": [
  {
   "cell_type": "code",
   "execution_count": 15,
   "metadata": {},
   "outputs": [],
   "source": [
    "'''Given a string containing only the characters x and y, \n",
    "find whether there are the same number of xs and ys.'''\n",
    "\n",
    "def balanced(string):\n",
    "    x = 0\n",
    "    y = 0\n",
    "    for i in string:\n",
    "        if i == 'x':\n",
    "            x += 1\n",
    "        if i == 'y':\n",
    "            y += 1\n",
    "    if x == y:\n",
    "        print('True')\n",
    "    else:\n",
    "        print('False')\n",
    "    "
   ]
  },
  {
   "cell_type": "code",
   "execution_count": 16,
   "metadata": {},
   "outputs": [
    {
     "name": "stdout",
     "output_type": "stream",
     "text": [
      "False\n"
     ]
    }
   ],
   "source": [
    "balanced('xyx')"
   ]
  },
  {
   "cell_type": "code",
   "execution_count": null,
   "metadata": {},
   "outputs": [],
   "source": []
  }
 ],
 "metadata": {
  "kernelspec": {
   "display_name": "Python 3",
   "language": "python",
   "name": "python3"
  },
  "language_info": {
   "codemirror_mode": {
    "name": "ipython",
    "version": 3
   },
   "file_extension": ".py",
   "mimetype": "text/x-python",
   "name": "python",
   "nbconvert_exporter": "python",
   "pygments_lexer": "ipython3",
   "version": "3.7.1"
  }
 },
 "nbformat": 4,
 "nbformat_minor": 2
}
