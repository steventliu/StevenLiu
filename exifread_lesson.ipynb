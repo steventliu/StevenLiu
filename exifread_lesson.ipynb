{
 "cells": [
  {
   "cell_type": "markdown",
   "metadata": {},
   "source": [
    "What is EXIF Data? \n",
    "\n",
    "When viewing images on the Internet, you might have noticed that some websites provide valuable information related to those images, such as their exposure settings, camera brand, etc. This information known as “EXIF Data” can be an important source of knowledge in figuring out how photographers capture images and what tools they use in the process. In Python, we can view exif data with the Python module called exifread. The word “EXIF” is based on the Exchangeable Image File Format standard and data that photographers care about such as shutter speed, aperture, date, etc are considered EXIF data. Nowadays, every modern digital camera has the capability to record this information, along with many other camera settings, right into photographs. These settings can then be later used to organize photographs, perform searches and provide vital information to photographers about the way a particular photograph was captured. What we can do with EXIF data is exploit images to get GPS locations."
   ]
  },
  {
   "cell_type": "code",
   "execution_count": null,
   "metadata": {},
   "outputs": [],
   "source": [
    "#First, let's install exifread\n",
    "\n",
    "!pip install exifread"
   ]
  },
  {
   "cell_type": "markdown",
   "metadata": {},
   "source": [
    "Import exifread along with a few other modules to handle inspecting this data.\n",
    "\n",
    "To read more about these modules see below:\n",
    "os: https://docs.python.org/3.7/library/os.html#module-os\n",
    "os.path(): https://docs.python.org/3.7/library/os.path.html\n",
    "glob: https://docs.python.org/3.7/library/glob.html#module-glob\n",
    "pprint: https://docs.python.org/3.7/library/pprint.html#module-pprint"
   ]
  },
  {
   "cell_type": "code",
   "execution_count": null,
   "metadata": {},
   "outputs": [],
   "source": [
    "import os\n",
    "import glob\n",
    "import pprint\n",
    "import exifread"
   ]
  },
  {
   "cell_type": "markdown",
   "metadata": {},
   "source": [
    "We'll need some sample data to process EXIF tags on. You may have a batch of photos but for consistency let's use the material from here so we can expect the same results.\n",
    "\n",
    "https://github.com/ianare/exif-samples\n",
    "\n",
    "https://github.com/ianare/exif-samples/archive/master.zip\n",
    "\n",
    "The below assumes you've extracted this zip file under the current working directory.  Let's see what directory it is so we can make sure we dropped the zip file into the write directory/folder."
   ]
  },
  {
   "cell_type": "code",
   "execution_count": null,
   "metadata": {},
   "outputs": [],
   "source": [
    "#Let's see what the path of our current working directory is\n",
    "\n",
    "os.getcwd()"
   ]
  },
  {
   "cell_type": "code",
   "execution_count": null,
   "metadata": {},
   "outputs": [],
   "source": [
    "cwd = os.path.abspath('.')\n",
    "\n",
    "if not os.path.exists(os.path.join(cwd, 'exif-samples-master')):\n",
    "    print(\"exif-samples-master not found\")"
   ]
  },
  {
   "cell_type": "markdown",
   "metadata": {},
   "source": [
    "With the files in place, we can inspect the dictionary dump of the results. This produces a lot of results so pprint will come in handed here."
   ]
  },
  {
   "cell_type": "code",
   "execution_count": null,
   "metadata": {
    "scrolled": false
   },
   "outputs": [],
   "source": [
    "for filename in glob.glob('exif-samples-master/petra/*.jpg', recursive=True):\n",
    "    \n",
    "    # Open image file for reading (binary mode)\n",
    "    fh = open(os.path.join(cwd, filename), 'rb')\n",
    "\n",
    "    # Return Exif tags\n",
    "    tags = exifread.process_file(fh)\n",
    "    \n",
    "    pprint.pprint(tags)"
   ]
  },
  {
   "cell_type": "markdown",
   "metadata": {},
   "source": [
    "You can see that there's some very cool data that we can pull out from this. However, because we're good with opsec, we all had location data turned off on our phones.  Let's try to pull some GPS coordinates that are embedded in the EXIF data of the other pictures in the master folder.  We don't have to reinvent the wheel here and can use material that is out there publicly. This is from https://gist.github.com/snakeye/fdc372dbf11370fe29eb."
   ]
  },
  {
   "cell_type": "code",
   "execution_count": null,
   "metadata": {},
   "outputs": [],
   "source": [
    "# https://gist.github.com/snakeye/fdc372dbf11370fe29eb\n",
    "\n",
    "def _get_if_exist(data, key):\n",
    "    if key in data:\n",
    "        return data[key]\n",
    "\n",
    "    return None\n",
    "\n",
    "\n",
    "def _convert_to_degress(value):\n",
    "    \"\"\"\n",
    "    Helper function to convert the GPS coordinates stored in the EXIF to degress in float format\n",
    "    :param value:\n",
    "    :type value: exifread.utils.Ratio\n",
    "    :rtype: float\n",
    "    \"\"\"\n",
    "    d = float(value.values[0].num) / float(value.values[0].den)\n",
    "    m = float(value.values[1].num) / float(value.values[1].den)\n",
    "    s = float(value.values[2].num) / float(value.values[2].den)\n",
    "\n",
    "    return d + (m / 60.0) + (s / 3600.0)\n",
    "    \n",
    "def get_exif_location(exif_data):\n",
    "    \"\"\"\n",
    "    Returns the latitude and longitude, if available, from the provided exif_data (obtained through get_exif_data above)\n",
    "    \"\"\"\n",
    "    lat = None\n",
    "    lon = None\n",
    "\n",
    "    gps_latitude = _get_if_exist(exif_data, 'GPS GPSLatitude')\n",
    "    gps_latitude_ref = _get_if_exist(exif_data, 'GPS GPSLatitudeRef')\n",
    "    gps_longitude = _get_if_exist(exif_data, 'GPS GPSLongitude')\n",
    "    gps_longitude_ref = _get_if_exist(exif_data, 'GPS GPSLongitudeRef')\n",
    "\n",
    "    if gps_latitude and gps_latitude_ref and gps_longitude and gps_longitude_ref:\n",
    "        lat = _convert_to_degress(gps_latitude)\n",
    "        if gps_latitude_ref.values[0] != 'N':\n",
    "            lat = 0 - lat\n",
    "\n",
    "        lon = _convert_to_degress(gps_longitude)\n",
    "        if gps_longitude_ref.values[0] != 'E':\n",
    "            lon = 0 - lon\n",
    "\n",
    "    return lat, lon"
   ]
  },
  {
   "cell_type": "markdown",
   "metadata": {},
   "source": [
    "With the above defined, let's try some functionality to inspect our results."
   ]
  },
  {
   "cell_type": "code",
   "execution_count": null,
   "metadata": {},
   "outputs": [],
   "source": [
    "for filename in glob.glob('exif-samples-master/**/*.jpg', recursive=True):\n",
    "    # Open image file for reading (binary mode)\n",
    "    fh = open(filename, 'rb')\n",
    "\n",
    "    try:\n",
    "        # Return Exif tags\n",
    "        tags = exifread.process_file(fh)\n",
    "    \n",
    "        gps_tuple = get_exif_location(tags)\n",
    "    \n",
    "        if gps_tuple != (None, None):\n",
    "            print(filename, gps_tuple)\n",
    "\n",
    "    # there are known corrupt files, we must handle this\n",
    "    except OSError:\n",
    "        pass\n",
    "    except ZeroDivisionError:\n",
    "        pass"
   ]
  },
  {
   "cell_type": "markdown",
   "metadata": {},
   "source": [
    "With the above worked out, let's try to visualize these results more effectively."
   ]
  },
  {
   "cell_type": "code",
   "execution_count": null,
   "metadata": {},
   "outputs": [],
   "source": [
    "!pip install folium"
   ]
  },
  {
   "cell_type": "code",
   "execution_count": null,
   "metadata": {},
   "outputs": [],
   "source": [
    "import folium"
   ]
  },
  {
   "cell_type": "markdown",
   "metadata": {},
   "source": [
    "Let's center on the Eiffel Tower in Paris since we have multiple images with Europe EXIF data"
   ]
  },
  {
   "cell_type": "code",
   "execution_count": null,
   "metadata": {},
   "outputs": [],
   "source": [
    "map_ = folium.Map(location=[48.8584, 2.2945], zoom_start=3)"
   ]
  },
  {
   "cell_type": "markdown",
   "metadata": {},
   "source": [
    "Try it out! Swap the print of lat/lon for marking up a map with.\n",
    "Essentially, we are inserting the gps_tuple coordinates into the folium.Marker expression"
   ]
  },
  {
   "cell_type": "code",
   "execution_count": null,
   "metadata": {},
   "outputs": [],
   "source": [
    "for filename in glob.glob('exif-samples-master/**/*.jpg', recursive=True):\n",
    "    # Open image file for reading (binary mode)\n",
    "    fh = open(filename, 'rb')\n",
    "\n",
    "    try:\n",
    "        # Return Exif tags\n",
    "        tags = exifread.process_file(fh)\n",
    "    \n",
    "        gps_tuple = get_exif_location(tags)\n",
    "    \n",
    "        if gps_tuple != (None, None):\n",
    "            # print(filename, gps_tuple)\n",
    "            folium.Marker(gps_tuple).add_to(map_)\n",
    "\n",
    "    # there are known corrupt files, we must handle this\n",
    "    except OSError:\n",
    "        pass\n",
    "    except ZeroDivisionError:\n",
    "        pass"
   ]
  },
  {
   "cell_type": "markdown",
   "metadata": {},
   "source": [
    "Display it!"
   ]
  },
  {
   "cell_type": "code",
   "execution_count": null,
   "metadata": {},
   "outputs": [],
   "source": [
    "map_"
   ]
  },
  {
   "cell_type": "code",
   "execution_count": null,
   "metadata": {},
   "outputs": [],
   "source": [
    "#let's try to use simplekml\n",
    "!pip install simplekml"
   ]
  },
  {
   "cell_type": "code",
   "execution_count": null,
   "metadata": {},
   "outputs": [],
   "source": [
    "import simplekml"
   ]
  },
  {
   "cell_type": "code",
   "execution_count": null,
   "metadata": {},
   "outputs": [],
   "source": [
    "# kml = simplekml.Kml()\n",
    "# df.apply(lambda X: kml.newpoint(name=X[\"name\"], coords=[(X[\"longitude\"], X[\"latitude\"])]), axis=1)\n",
    "# kml.save(path=\"data.kml\")"
   ]
  },
  {
   "cell_type": "code",
   "execution_count": null,
   "metadata": {},
   "outputs": [],
   "source": [
    "kml = simplekml.Kml()\n",
    "gpslist = []\n",
    "for filename in glob.glob('exif-samples-master/**/*.jpg', recursive=True):\n",
    "    # Open image file for reading (binary mode)\n",
    "    fh = open(filename, 'rb')\n",
    "\n",
    "    try:\n",
    "        # Return Exif tags\n",
    "        tags = exifread.process_file(fh)\n",
    "    \n",
    "        gps_tuple = get_exif_location(tags)\n",
    "    \n",
    "        if gps_tuple != (None, None):\n",
    "            gpslist.append(gps_tuple)\n",
    "\n",
    "    # there are known corrupt files, we must handle this\n",
    "    except OSError:\n",
    "        pass\n",
    "    except ZeroDivisionError:\n",
    "        pass"
   ]
  },
  {
   "cell_type": "code",
   "execution_count": null,
   "metadata": {},
   "outputs": [],
   "source": [
    "gpslist"
   ]
  },
  {
   "cell_type": "markdown",
   "metadata": {},
   "source": [
    "Again, we don't need to reinvent the wheel.  I went to the simplekml website and took the generic code for how to make a kml and turn our gps points into coordinates.  Note in the code how Google Earth takes the inputs of the coordinates as Longitude and then Latitude.  \n",
    "\n",
    "https://simplekml.readthedocs.io/en/latest/tut_point.html"
   ]
  },
  {
   "cell_type": "code",
   "execution_count": null,
   "metadata": {},
   "outputs": [],
   "source": [
    "# Create an instance of Kml\n",
    "kml = simplekml.Kml(open=1)\n",
    "\n",
    "# Create a point named \"The World\" attached to the KML document with its coordinate at 0 degrees latitude and longitude.\n",
    "# All the point's properties are given when it is constructed.\n",
    "#single_point = kml.newpoint(name=\"The World\", coords=[(0.0,0.0)])\n",
    "\n",
    "# Create a point for each city. The points' properties are assigned after the point is created\n",
    "for lat, lon in gpslist:\n",
    "    pnt = kml.newpoint()\n",
    "    pnt.coords = [(lon, lat)]\n",
    "    \n",
    "\n",
    "# Save the KML\n",
    "kml.save(\"exifdata.kml\")\n",
    "print('We made the kml for you!')"
   ]
  },
  {
   "cell_type": "code",
   "execution_count": null,
   "metadata": {},
   "outputs": [],
   "source": []
  }
 ],
 "metadata": {
  "kernelspec": {
   "display_name": "Python 3",
   "language": "python",
   "name": "python3"
  },
  "language_info": {
   "codemirror_mode": {
    "name": "ipython",
    "version": 3
   },
   "file_extension": ".py",
   "mimetype": "text/x-python",
   "name": "python",
   "nbconvert_exporter": "python",
   "pygments_lexer": "ipython3",
   "version": "3.7.1"
  }
 },
 "nbformat": 4,
 "nbformat_minor": 2
}
