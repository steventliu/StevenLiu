{
 "cells": [
  {
   "cell_type": "markdown",
   "metadata": {},
   "source": [
    "# Storing / Sending / Receiving data\n",
    "\n",
    "Data serialization provides a means of translating data into a format to be stored or transmitted. Upon reading or receipt of the data it can be reconstructed on the other side. We'll look at some Python native serialization formats using pickling and shelves followed by standards such as JSON and XML.\n",
    "\n",
    "Lesson Goals\n",
    "- Review Pickling\n",
    "- Review Shelves\n",
    "- Review JSON\n",
    "- Review XML\n",
    "\n",
    "https://en.wikipedia.org/wiki/Serialization\n",
    "\n",
    "https://docs.python-guide.org/scenarios/serialization/"
   ]
  },
  {
   "cell_type": "markdown",
   "metadata": {},
   "source": [
    "## Pickling\n",
    "\n",
    "According to Python.org 'The pickle module implements binary protocols for serializing and de-serializing a Python object structure. “Pickling” is the process whereby a Python object hierarchy is converted into a byte stream, and “unpickling” is the inverse operation, whereby a byte stream (from a binary file or bytes-like object) is converted back into an object hierarchy. Pickling (and unpickling) is alternatively known as “serialization”, “marshalling,” [1] or “flattening”; however, to avoid confusion, the terms used here are “pickling” and “unpickling”.\n",
    "\n",
    "Warning The pickle module is not secure against erroneous or maliciously constructed data. Never unpickle data received from an untrusted or unauthenticated source.'\n",
    "\n",
    "Source: https://docs.python.org/3/library/pickle.html\n",
    "\n",
    "Additional reading: https://www.datacamp.com/community/tutorials/pickle-python-tutorial"
   ]
  },
  {
   "cell_type": "code",
   "execution_count": 1,
   "metadata": {},
   "outputs": [],
   "source": [
    "import pickle"
   ]
  },
  {
   "cell_type": "code",
   "execution_count": 2,
   "metadata": {},
   "outputs": [],
   "source": [
    "my_food = {\n",
    "    'drink': 'Rip It',\n",
    "    'sides': 'fries',\n",
    "    'sandwich': ['burger','bun','lettuce','tomato','pickle','ketchup']\n",
    "}"
   ]
  },
  {
   "cell_type": "code",
   "execution_count": 3,
   "metadata": {},
   "outputs": [],
   "source": [
    "filename = 'food.pickle'\n",
    "with open(filename,'wb') as filehandle:\n",
    "    pickle.dump(my_food, filehandle)\n",
    "    #Write a pickled representation of obj to the open file object file."
   ]
  },
  {
   "cell_type": "code",
   "execution_count": 4,
   "metadata": {},
   "outputs": [
    {
     "data": {
      "text/plain": [
       "{'drink': 'Rip It',\n",
       " 'sides': 'fries',\n",
       " 'sandwich': ['burger', 'bun', 'lettuce', 'tomato', 'pickle', 'ketchup']}"
      ]
     },
     "execution_count": 4,
     "metadata": {},
     "output_type": "execute_result"
    }
   ],
   "source": [
    "# You will get the contents now\n",
    "my_food"
   ]
  },
  {
   "cell_type": "markdown",
   "metadata": {},
   "source": [
    "Go Kernel -> Restart. You will be warned that all variables will be lost."
   ]
  },
  {
   "cell_type": "code",
   "execution_count": 5,
   "metadata": {
    "scrolled": true
   },
   "outputs": [
    {
     "name": "stdout",
     "output_type": "stream",
     "text": [
      "{'drink': 'Rip It', 'sides': 'fries', 'sandwich': ['burger', 'bun', 'lettuce', 'tomato', 'pickle', 'ketchup']}\n"
     ]
    }
   ],
   "source": [
    "# This will not be defined and will get a NameError\n",
    "print(my_food)"
   ]
  },
  {
   "cell_type": "markdown",
   "metadata": {},
   "source": [
    "##### Exercise 1\n",
    "\n",
    "Refresh yourself on the try/except functionality and print a clean error message when the NameError exception occurs"
   ]
  },
  {
   "cell_type": "code",
   "execution_count": 6,
   "metadata": {
    "scrolled": true
   },
   "outputs": [
    {
     "name": "stdout",
     "output_type": "stream",
     "text": [
      "{'drink': 'Rip It', 'sides': 'fries', 'sandwich': ['burger', 'bun', 'lettuce', 'tomato', 'pickle', 'ketchup']}\n"
     ]
    }
   ],
   "source": [
    "# NOT IMPLEMENTED YET, try/except printing my_food\n",
    "try:\n",
    "    print(my_food)\n",
    "except NameError:\n",
    "    print('There is a NameError in the code')"
   ]
  },
  {
   "cell_type": "code",
   "execution_count": 7,
   "metadata": {},
   "outputs": [],
   "source": [
    "import pickle\n",
    "# NOT IMPLEMENTED YET\n",
    "with open('food.pickle', 'rb') as f:\n",
    "    my_food = pickle.load(f)\n",
    "# open file for reading in binary mode and load the contents"
   ]
  },
  {
   "cell_type": "code",
   "execution_count": 8,
   "metadata": {},
   "outputs": [
    {
     "data": {
      "text/plain": [
       "{'drink': 'Rip It',\n",
       " 'sides': 'fries',\n",
       " 'sandwich': ['burger', 'bun', 'lettuce', 'tomato', 'pickle', 'ketchup']}"
      ]
     },
     "execution_count": 8,
     "metadata": {},
     "output_type": "execute_result"
    }
   ],
   "source": [
    "my_food"
   ]
  },
  {
   "cell_type": "markdown",
   "metadata": {},
   "source": [
    "Voila. You got your data back.\n",
    "\n",
    "Let's take a moment to consider the warning in Python.org... 'Warning The pickle module is not secure against erroneous or maliciously constructed data. Never unpickle data received from an untrusted or unauthenticated source.'\n",
    "\n",
    "Let's show why you should check any data you ingest with pickle as well as why you should use care if you are using pickled data for communication over the network.\n",
    "\n",
    "Further reading: https://blog.nelhage.com/2011/03/exploiting-pickle/"
   ]
  },
  {
   "cell_type": "code",
   "execution_count": 9,
   "metadata": {},
   "outputs": [
    {
     "data": {
      "text/plain": [
       "0"
      ]
     },
     "execution_count": 9,
     "metadata": {},
     "output_type": "execute_result"
    }
   ],
   "source": [
    "# run me I won't hurt I promise\n",
    "pickle.loads(b\"cos\\nsystem\\n(S'echo hello world'\\ntR.\")\n",
    "\n",
    "# look in your jupyter notebook command prompt"
   ]
  },
  {
   "cell_type": "markdown",
   "metadata": {},
   "source": [
    "## Shelve\n",
    "\n",
    "According to Python.org 'A “shelf” is a persistent, dictionary-like object. The difference with “dbm” databases is that the values (not the keys!) in a shelf can be essentially arbitrary Python objects — anything that the pickle module can handle. This includes most class instances, recursive data types, and objects containing lots of shared sub-objects. The keys are ordinary strings.\n",
    "...\n",
    "Because the shelve module is backed by pickle, it is insecure to load a shelf from an untrusted source. Like with pickle, loading a shelf can execute arbitrary code.'\n",
    "\n",
    "Source: https://docs.python.org/3/library/shelve.html"
   ]
  },
  {
   "cell_type": "code",
   "execution_count": 11,
   "metadata": {},
   "outputs": [],
   "source": [
    "# Import shelve and open one up\n",
    "import shelve\n",
    "filename = 'food.shelve'\n",
    "d = shelve.open(filename)"
   ]
  },
  {
   "cell_type": "code",
   "execution_count": 12,
   "metadata": {},
   "outputs": [],
   "source": [
    "# store my_food in shelf_of_food\n",
    "d['shelf_of_food'] = my_food"
   ]
  },
  {
   "cell_type": "code",
   "execution_count": 13,
   "metadata": {},
   "outputs": [
    {
     "data": {
      "text/plain": [
       "{'drink': 'Rip It',\n",
       " 'sides': 'fries',\n",
       " 'sandwich': ['burger', 'bun', 'lettuce', 'tomato', 'pickle', 'ketchup']}"
      ]
     },
     "execution_count": 13,
     "metadata": {},
     "output_type": "execute_result"
    }
   ],
   "source": [
    "# we can also access it directly just like an in memory dictionary\n",
    "d['shelf_of_food']"
   ]
  },
  {
   "cell_type": "code",
   "execution_count": 15,
   "metadata": {},
   "outputs": [],
   "source": [
    "# we can delete keys... or can we?\n",
    "del d['shelf_of_food']['drink']"
   ]
  },
  {
   "cell_type": "code",
   "execution_count": 16,
   "metadata": {},
   "outputs": [
    {
     "data": {
      "text/plain": [
       "{'drink': 'Rip It',\n",
       " 'sides': 'fries',\n",
       " 'sandwich': ['burger', 'bun', 'lettuce', 'tomato', 'pickle', 'ketchup']}"
      ]
     },
     "execution_count": 16,
     "metadata": {},
     "output_type": "execute_result"
    }
   ],
   "source": [
    "# show the contents again, did it work?\n",
    "d['shelf_of_food']"
   ]
  },
  {
   "cell_type": "code",
   "execution_count": 19,
   "metadata": {},
   "outputs": [],
   "source": [
    "# close it\n",
    "d.close()"
   ]
  },
  {
   "cell_type": "code",
   "execution_count": null,
   "metadata": {},
   "outputs": [],
   "source": [
    "# Open it up again so we can actually add to entries/delete entries\n",
    "# <- remember kwargs?"
   ]
  },
  {
   "cell_type": "markdown",
   "metadata": {},
   "source": [
    "##### Exercise 2\n",
    "\n",
    "Demonstrate you can manipulate a shelve.  Append 'mustard' to the sandwich key in this shelve.  Remember the sandwich key in your dictionary contains a list so you use various list methods (https://docs.python.org/3/tutorial/datastructures.html) to add an entry."
   ]
  },
  {
   "cell_type": "code",
   "execution_count": null,
   "metadata": {},
   "outputs": [],
   "source": [
    "# NOT IMPLEMENTED YET - Append 'mustard' to the sandwich key"
   ]
  },
  {
   "cell_type": "code",
   "execution_count": null,
   "metadata": {},
   "outputs": [],
   "source": [
    "# now things work as expected"
   ]
  },
  {
   "cell_type": "code",
   "execution_count": null,
   "metadata": {},
   "outputs": [],
   "source": [
    "# close it"
   ]
  },
  {
   "cell_type": "markdown",
   "metadata": {},
   "source": [
    "## JSON\n",
    "\n",
    "According to Python.org 'JSON (JavaScript Object Notation), specified by RFC 7159 (which obsoletes RFC 4627) and by ECMA-404, is a lightweight data interchange format inspired by JavaScript object literal syntax (although it is not a strict subset of JavaScript [1] ).\n",
    "\n",
    "json exposes an API familiar to users of the standard library marshal and pickle modules.'\n",
    "\n",
    "Source: https://docs.python.org/3/library/json.html"
   ]
  },
  {
   "cell_type": "markdown",
   "metadata": {},
   "source": [
    "##### Exercise 3\n",
    "\n",
    "JSON will likely be the most common serialized data you work with.  Use the following exercise and write filtered TODOs from the JSON todos to a file. Your opening of a filehandle and writing to it will work similarly to earlier.\n",
    "\n",
    "https://realpython.com/python-json/"
   ]
  },
  {
   "cell_type": "code",
   "execution_count": null,
   "metadata": {},
   "outputs": [],
   "source": [
    "import json\n",
    "import requests"
   ]
  },
  {
   "cell_type": "code",
   "execution_count": null,
   "metadata": {},
   "outputs": [],
   "source": [
    "response = requests.get(\"https://jsonplaceholder.typicode.com/todos\")\n",
    "todos = json.loads(response.text)"
   ]
  },
  {
   "cell_type": "code",
   "execution_count": null,
   "metadata": {},
   "outputs": [],
   "source": [
    "# NOT IMPLEMENTED YET - write filtered TODOs to file"
   ]
  },
  {
   "cell_type": "markdown",
   "metadata": {},
   "source": [
    "## XML\n",
    "\n",
    "XML: XML stands for eXtensible Markup Language. It was designed to store and transport data. It was designed to be both human- and machine-readable. That’s why, the design goals of XML emphasize simplicity, generality, and usability across the Internet. The XML file to be parsed in this tutorial is actually a RSS feed.\n",
    "\n",
    "Source: https://www.geeksforgeeks.org/xml-parsing-python/\n",
    "\n",
    "Additional reading: https://docs.python.org/3/library/xml.html"
   ]
  },
  {
   "cell_type": "markdown",
   "metadata": {},
   "source": [
    "##### Exercise 4\n",
    "\n",
    "Parse and save the contents of the RSS feed into a CSV file based on the GeeksForGeeks exercice."
   ]
  },
  {
   "cell_type": "code",
   "execution_count": null,
   "metadata": {},
   "outputs": [],
   "source": [
    "# NOT IMPLEMENTED YET - make it happen\n",
    "\n",
    "\"\"\"Here, we first create a HTTP response object by sending an HTTP request to the URL of the RSS feed.\n",
    "The content of response now contains the XML file data which we save as topnewsfeed.xml in \n",
    "our local directory.\"\"\"\n",
    "\n",
    "\n",
    "#Python code to illustrate parsing of XML files \n",
    "# importing the required modules \n",
    "import csv \n",
    "import requests \n",
    "import xml.etree.ElementTree as ET \n",
    "  \n",
    "def loadRSS(): \n",
    "# url of rss feed \n",
    "    url = 'http://www.hindustantimes.com/rss/topnews/rssfeed.xml'\n",
    "# creating HTTP response object from given url \n",
    "    resp = requests.get(url) \n",
    "# saving the xml file \n",
    "    with open('topnewsfeed.xml', 'wb') as f: \n",
    "        f.write(resp.content) \n",
    "\n",
    "        \n",
    "def parseXML(xmlfile): \n",
    "# create element tree object \n",
    "    tree = ET.parse(xmlfile) \n",
    "# get root element \n",
    "    root = tree.getroot() \n",
    "# create empty list for news items \n",
    "    newsitems = [] \n",
    "# iterate news items \n",
    "    for item in root.findall('./channel/item'): \n",
    "# empty news dictionary \n",
    "        news = {} \n",
    "# iterate child elements of item \n",
    "        for child in item: \n",
    "# special checking for namespace object content:media \n",
    "            if child.tag == '{http://search.yahoo.com/mrss/}content': \n",
    "                news['media'] = child.attrib['url'] \n",
    "            else: \n",
    "                news[child.tag] = child.text.encode('utf8') \n",
    "# append news dictionary to news items list \n",
    "        newsitems.append(news) \n",
    "      \n",
    "# return news items list \n",
    "    return newsitems \n",
    "  \n",
    "\n",
    "def savetoCSV(newsitems, filename): \n",
    "# specifying the fields for csv file \n",
    "    fields = ['guid', 'title', 'pubDate', 'description', 'link', 'media'] \n",
    "# writing to csv file \n",
    "    with open(filename, 'w') as csvfile: \n",
    "# creating a csv dict writer object \n",
    "        writer = csv.DictWriter(csvfile, fieldnames = fields) \n",
    "# writing headers (field names) \n",
    "        writer.writeheader() \n",
    "# writing data rows \n",
    "        writer.writerows(newsitems) \n",
    "    \n",
    "\n",
    "def main(): \n",
    "    # load rss from web to update existing xml file \n",
    "    loadRSS() \n",
    "# parse xml file \n",
    "    newsitems = parseXML('topnewsfeed.xml') \n",
    "# store news items in a csv file \n",
    "    savetoCSV(newsitems, 'topnews.csv') \n",
    "         \n",
    "if __name__ == \"__main__\": \n",
    "# calling main function \n",
    "    main() "
   ]
  },
  {
   "cell_type": "code",
   "execution_count": null,
   "metadata": {},
   "outputs": [],
   "source": []
  }
 ],
 "metadata": {
  "kernelspec": {
   "display_name": "Python 3",
   "language": "python",
   "name": "python3"
  },
  "language_info": {
   "codemirror_mode": {
    "name": "ipython",
    "version": 3
   },
   "file_extension": ".py",
   "mimetype": "text/x-python",
   "name": "python",
   "nbconvert_exporter": "python",
   "pygments_lexer": "ipython3",
   "version": "3.7.1"
  }
 },
 "nbformat": 4,
 "nbformat_minor": 2
}
