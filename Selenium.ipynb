{
 "cells": [
  {
   "cell_type": "code",
   "execution_count": null,
   "metadata": {},
   "outputs": [],
   "source": [
    "!pip install selenium\n",
    "!pip install pandas\n",
    "!pip install beautifulsoup4"
   ]
  },
  {
   "cell_type": "code",
   "execution_count": 1,
   "metadata": {},
   "outputs": [],
   "source": [
    "from bs4 import BeautifulSoup as bs\n",
    "import pandas as pd\n",
    "import requests"
   ]
  },
  {
   "cell_type": "code",
   "execution_count": 2,
   "metadata": {},
   "outputs": [],
   "source": [
    "url = \"https://www.google.com\""
   ]
  },
  {
   "cell_type": "code",
   "execution_count": 6,
   "metadata": {},
   "outputs": [],
   "source": [
    "r=requests.get(url)\n",
    "#print(r.text)"
   ]
  },
  {
   "cell_type": "code",
   "execution_count": 4,
   "metadata": {},
   "outputs": [],
   "source": [
    "soup=bs(r.text)\n",
    "#print(soup)"
   ]
  },
  {
   "cell_type": "code",
   "execution_count": 11,
   "metadata": {},
   "outputs": [],
   "source": [
    "body=soup.find_all('body')\n",
    "#print(body)"
   ]
  },
  {
   "cell_type": "code",
   "execution_count": 16,
   "metadata": {},
   "outputs": [
    {
     "name": "stdout",
     "output_type": "stream",
     "text": [
      "Images https://www.google.com/imghp?hl=en&tab=wi\n",
      "Maps https://maps.google.com/maps?hl=en&tab=wl\n",
      "Play https://play.google.com/?hl=en&tab=w8\n",
      "YouTube https://www.youtube.com/?gl=US&tab=w1\n",
      "News https://news.google.com/nwshp?hl=en&tab=wn\n",
      "Gmail https://mail.google.com/mail/?tab=wm\n",
      "Drive https://drive.google.com/?tab=wo\n",
      "More » https://www.google.com/intl/en/about/products?tab=wh\n",
      "Web History http://www.google.com/history/optout?hl=en\n",
      "Settings /preferences?hl=en\n",
      "Sign in https://accounts.google.com/ServiceLogin?hl=en&passive=true&continue=https://www.google.com/\n",
      "Advanced search /advanced_search?hl=en&authuser=0\n",
      "Language tools /language_tools?hl=en&authuser=0\n",
      "Advertising Programs /intl/en/ads/\n",
      "Business Solutions /services/\n",
      "About Google /intl/en/about.html\n",
      "Privacy /intl/en/policies/privacy/\n",
      "Terms /intl/en/policies/terms/\n",
      "[('Images', 'https://www.google.com/imghp?hl=en&tab=wi'), ('Maps', 'https://maps.google.com/maps?hl=en&tab=wl'), ('Play', 'https://play.google.com/?hl=en&tab=w8'), ('YouTube', 'https://www.youtube.com/?gl=US&tab=w1'), ('News', 'https://news.google.com/nwshp?hl=en&tab=wn'), ('Gmail', 'https://mail.google.com/mail/?tab=wm'), ('Drive', 'https://drive.google.com/?tab=wo'), ('More »', 'https://www.google.com/intl/en/about/products?tab=wh'), ('Web History', 'http://www.google.com/history/optout?hl=en'), ('Settings', '/preferences?hl=en'), ('Sign in', 'https://accounts.google.com/ServiceLogin?hl=en&passive=true&continue=https://www.google.com/'), ('Advanced search', '/advanced_search?hl=en&authuser=0'), ('Language tools', '/language_tools?hl=en&authuser=0'), ('Advertising\\xa0Programs', '/intl/en/ads/'), ('Business Solutions', '/services/'), ('About Google', '/intl/en/about.html'), ('Privacy', '/intl/en/policies/privacy/'), ('Terms', '/intl/en/policies/terms/')]\n"
     ]
    }
   ],
   "source": [
    "link_list=[]\n",
    "links=soup.find_all('a')\n",
    "for link in links:\n",
    "    link_name=link.text\n",
    "    link_url=link.get('href')\n",
    "    print(link_name, link_url)\n",
    "    link_list.append((link_name, link_url))\n",
    "    \n",
    "print(link_list)"
   ]
  },
  {
   "cell_type": "code",
   "execution_count": 21,
   "metadata": {},
   "outputs": [],
   "source": [
    "df=pd.DataFrame(link_list)\n",
    "df = df.rename(columns={0:\"LinkName\",1:\"URL\"})\n",
    "df.to_excel('selenium.xlsx')"
   ]
  },
  {
   "cell_type": "code",
   "execution_count": null,
   "metadata": {},
   "outputs": [],
   "source": []
  }
 ],
 "metadata": {
  "kernelspec": {
   "display_name": "Python 3",
   "language": "python",
   "name": "python3"
  },
  "language_info": {
   "codemirror_mode": {
    "name": "ipython",
    "version": 3
   },
   "file_extension": ".py",
   "mimetype": "text/x-python",
   "name": "python",
   "nbconvert_exporter": "python",
   "pygments_lexer": "ipython3",
   "version": "3.7.1"
  }
 },
 "nbformat": 4,
 "nbformat_minor": 2
}
